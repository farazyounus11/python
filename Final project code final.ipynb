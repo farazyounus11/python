{
 "cells": [
  {
   "cell_type": "code",
   "execution_count": 135,
   "id": "84a36448",
   "metadata": {},
   "outputs": [],
   "source": [
    "import numpy as np # needed for matrix/arrays\n",
    "import math # always need math\n",
    "import random # for fun\n",
    "import pandas as pd # pandas are cute and dumb\n",
    "import seaborn as sns # I don't know what this is for \n",
    "import matplotlib.pyplot as plt # neeeded for graphs\n",
    "import sklearn # needed for ML and stats\n",
    "from sklearn.feature_selection import SelectFromModel, chi2 ,SelectKBest\n",
    "from sklearn.decomposition import PCA\n",
    "from sklearn.metrics import confusion_matrix, classification_report\n",
    "from sklearn.preprocessing import StandardScaler, LabelEncoder, PolynomialFeatures\n",
    "from sklearn.model_selection import train_test_split\n",
    "from sklearn import linear_model\n",
    "from sklearn.metrics import mean_squared_error, r2_score\n",
    "from sklearn.linear_model import LinearRegression, Lasso, Ridge\n",
    "from numpy.linalg import inv\n"
   ]
  },
  {
   "cell_type": "code",
   "execution_count": 188,
   "id": "f1462934",
   "metadata": {},
   "outputs": [
    {
     "data": {
      "text/html": [
       "<div>\n",
       "<style scoped>\n",
       "    .dataframe tbody tr th:only-of-type {\n",
       "        vertical-align: middle;\n",
       "    }\n",
       "\n",
       "    .dataframe tbody tr th {\n",
       "        vertical-align: top;\n",
       "    }\n",
       "\n",
       "    .dataframe thead th {\n",
       "        text-align: right;\n",
       "    }\n",
       "</style>\n",
       "<table border=\"1\" class=\"dataframe\">\n",
       "  <thead>\n",
       "    <tr style=\"text-align: right;\">\n",
       "      <th></th>\n",
       "      <th>Unnamed: 0</th>\n",
       "      <th>0</th>\n",
       "      <th>1</th>\n",
       "      <th>2</th>\n",
       "      <th>3</th>\n",
       "      <th>4</th>\n",
       "      <th>5</th>\n",
       "      <th>6</th>\n",
       "      <th>7</th>\n",
       "      <th>8</th>\n",
       "      <th>...</th>\n",
       "      <th>40</th>\n",
       "      <th>41</th>\n",
       "      <th>42</th>\n",
       "      <th>43</th>\n",
       "      <th>44</th>\n",
       "      <th>45</th>\n",
       "      <th>46</th>\n",
       "      <th>47</th>\n",
       "      <th>48</th>\n",
       "      <th>49</th>\n",
       "    </tr>\n",
       "  </thead>\n",
       "  <tbody>\n",
       "    <tr>\n",
       "      <th>0</th>\n",
       "      <td>0</td>\n",
       "      <td>0.00632</td>\n",
       "      <td>18.0</td>\n",
       "      <td>2.31</td>\n",
       "      <td>0.0</td>\n",
       "      <td>0.538</td>\n",
       "      <td>6.575</td>\n",
       "      <td>65.2</td>\n",
       "      <td>4.0900</td>\n",
       "      <td>1.0</td>\n",
       "      <td>...</td>\n",
       "      <td>10.320404</td>\n",
       "      <td>53.319480</td>\n",
       "      <td>51.733969</td>\n",
       "      <td>18.873686</td>\n",
       "      <td>24.454063</td>\n",
       "      <td>-7.194644</td>\n",
       "      <td>-34.519912</td>\n",
       "      <td>6.302196</td>\n",
       "      <td>18.908724</td>\n",
       "      <td>45.757267</td>\n",
       "    </tr>\n",
       "    <tr>\n",
       "      <th>1</th>\n",
       "      <td>1</td>\n",
       "      <td>0.02731</td>\n",
       "      <td>0.0</td>\n",
       "      <td>7.07</td>\n",
       "      <td>0.0</td>\n",
       "      <td>0.469</td>\n",
       "      <td>6.421</td>\n",
       "      <td>78.9</td>\n",
       "      <td>4.9671</td>\n",
       "      <td>2.0</td>\n",
       "      <td>...</td>\n",
       "      <td>19.435654</td>\n",
       "      <td>4.955477</td>\n",
       "      <td>-25.754959</td>\n",
       "      <td>26.569556</td>\n",
       "      <td>-7.682459</td>\n",
       "      <td>16.298635</td>\n",
       "      <td>33.227264</td>\n",
       "      <td>18.224573</td>\n",
       "      <td>43.485017</td>\n",
       "      <td>-15.870646</td>\n",
       "    </tr>\n",
       "    <tr>\n",
       "      <th>2</th>\n",
       "      <td>2</td>\n",
       "      <td>0.02729</td>\n",
       "      <td>0.0</td>\n",
       "      <td>7.07</td>\n",
       "      <td>0.0</td>\n",
       "      <td>0.469</td>\n",
       "      <td>7.185</td>\n",
       "      <td>61.1</td>\n",
       "      <td>4.9671</td>\n",
       "      <td>2.0</td>\n",
       "      <td>...</td>\n",
       "      <td>-18.693977</td>\n",
       "      <td>-16.762125</td>\n",
       "      <td>39.234918</td>\n",
       "      <td>-14.328085</td>\n",
       "      <td>63.590530</td>\n",
       "      <td>4.659525</td>\n",
       "      <td>-3.686370</td>\n",
       "      <td>63.073551</td>\n",
       "      <td>52.012870</td>\n",
       "      <td>61.688974</td>\n",
       "    </tr>\n",
       "    <tr>\n",
       "      <th>3</th>\n",
       "      <td>3</td>\n",
       "      <td>0.03237</td>\n",
       "      <td>0.0</td>\n",
       "      <td>2.18</td>\n",
       "      <td>0.0</td>\n",
       "      <td>0.458</td>\n",
       "      <td>6.998</td>\n",
       "      <td>45.8</td>\n",
       "      <td>6.0622</td>\n",
       "      <td>3.0</td>\n",
       "      <td>...</td>\n",
       "      <td>24.900168</td>\n",
       "      <td>-12.326538</td>\n",
       "      <td>-22.281440</td>\n",
       "      <td>25.984793</td>\n",
       "      <td>19.166837</td>\n",
       "      <td>30.875786</td>\n",
       "      <td>74.578619</td>\n",
       "      <td>38.611987</td>\n",
       "      <td>-7.820556</td>\n",
       "      <td>42.925407</td>\n",
       "    </tr>\n",
       "    <tr>\n",
       "      <th>4</th>\n",
       "      <td>4</td>\n",
       "      <td>0.06905</td>\n",
       "      <td>0.0</td>\n",
       "      <td>2.18</td>\n",
       "      <td>0.0</td>\n",
       "      <td>0.458</td>\n",
       "      <td>7.147</td>\n",
       "      <td>54.2</td>\n",
       "      <td>6.0622</td>\n",
       "      <td>3.0</td>\n",
       "      <td>...</td>\n",
       "      <td>32.039863</td>\n",
       "      <td>-5.085242</td>\n",
       "      <td>-2.238744</td>\n",
       "      <td>3.611687</td>\n",
       "      <td>15.436979</td>\n",
       "      <td>6.150152</td>\n",
       "      <td>-19.373782</td>\n",
       "      <td>-1.090460</td>\n",
       "      <td>-40.585079</td>\n",
       "      <td>30.630786</td>\n",
       "    </tr>\n",
       "  </tbody>\n",
       "</table>\n",
       "<p>5 rows × 51 columns</p>\n",
       "</div>"
      ],
      "text/plain": [
       "   Unnamed: 0        0     1     2    3      4      5     6       7    8  ...  \\\n",
       "0           0  0.00632  18.0  2.31  0.0  0.538  6.575  65.2  4.0900  1.0  ...   \n",
       "1           1  0.02731   0.0  7.07  0.0  0.469  6.421  78.9  4.9671  2.0  ...   \n",
       "2           2  0.02729   0.0  7.07  0.0  0.469  7.185  61.1  4.9671  2.0  ...   \n",
       "3           3  0.03237   0.0  2.18  0.0  0.458  6.998  45.8  6.0622  3.0  ...   \n",
       "4           4  0.06905   0.0  2.18  0.0  0.458  7.147  54.2  6.0622  3.0  ...   \n",
       "\n",
       "          40         41         42         43         44         45  \\\n",
       "0  10.320404  53.319480  51.733969  18.873686  24.454063  -7.194644   \n",
       "1  19.435654   4.955477 -25.754959  26.569556  -7.682459  16.298635   \n",
       "2 -18.693977 -16.762125  39.234918 -14.328085  63.590530   4.659525   \n",
       "3  24.900168 -12.326538 -22.281440  25.984793  19.166837  30.875786   \n",
       "4  32.039863  -5.085242  -2.238744   3.611687  15.436979   6.150152   \n",
       "\n",
       "          46         47         48         49  \n",
       "0 -34.519912   6.302196  18.908724  45.757267  \n",
       "1  33.227264  18.224573  43.485017 -15.870646  \n",
       "2  -3.686370  63.073551  52.012870  61.688974  \n",
       "3  74.578619  38.611987  -7.820556  42.925407  \n",
       "4 -19.373782  -1.090460 -40.585079  30.630786  \n",
       "\n",
       "[5 rows x 51 columns]"
      ]
     },
     "execution_count": 188,
     "metadata": {},
     "output_type": "execute_result"
    }
   ],
   "source": [
    "# I am using pandas to create data frames\n",
    "dfx = pd.read_csv(\"features.csv\") # I removeed what seemed to be the x values\n",
    "dfy = pd.read_csv(\"target.csv\")\n",
    "dfx.shape\n",
    "dfx.head()"
   ]
  },
  {
   "cell_type": "code",
   "execution_count": 5,
   "id": "0bc26bb9",
   "metadata": {},
   "outputs": [
    {
     "data": {
      "text/plain": [
       "(506, 2)"
      ]
     },
     "execution_count": 5,
     "metadata": {},
     "output_type": "execute_result"
    }
   ],
   "source": [
    "dfy.shape\n"
   ]
  },
  {
   "attachments": {
    "image.png": {
     "image/png": "[encoded data removed]"
    }
   },
   "cell_type": "markdown",
   "id": "4a157534",
   "metadata": {},
   "source": [
    "![image.png](attachment:image.png)\n"
   ]
  },
  {
   "cell_type": "code",
   "execution_count": 7,
   "id": "3a05b5ff",
   "metadata": {},
   "outputs": [
    {
     "data": {
      "text/plain": [
       "(506, 2)"
      ]
     },
     "execution_count": 7,
     "metadata": {},
     "output_type": "execute_result"
    }
   ],
   "source": [
    "X = dfx\n",
    "y = dfy\n",
    "y.shape"
   ]
  },
  {
   "cell_type": "code",
   "execution_count": 8,
   "id": "0f5de28e",
   "metadata": {},
   "outputs": [],
   "source": [
    "X_train, X_test, y_train, y_test = train_test_split(X,y, test_size=0.33,  random_state = 1)"
   ]
  },
  {
   "cell_type": "code",
   "execution_count": 9,
   "id": "c80a2091",
   "metadata": {},
   "outputs": [
    {
     "data": {
      "text/plain": [
       "(339, 2)"
      ]
     },
     "execution_count": 9,
     "metadata": {},
     "output_type": "execute_result"
    }
   ],
   "source": [
    "X_train.shape\n",
    "y_train.shape"
   ]
  },
  {
   "cell_type": "markdown",
   "id": "67d106a1",
   "metadata": {},
   "source": [
    "This is for Linear regression\n"
   ]
  },
  {
   "cell_type": "code",
   "execution_count": 71,
   "id": "f5d6eca4",
   "metadata": {},
   "outputs": [
    {
     "name": "stdout",
     "output_type": "stream",
     "text": [
      "12.140985905427522 0.862123185011332\n"
     ]
    },
    {
     "data": {
      "text/plain": [
       "array([[ 1.00000000e+00, -5.61704178e-16, -3.00378600e-16,\n",
       "         2.79181353e-17,  3.10006872e-15, -9.59565623e-14,\n",
       "        -6.72744910e-15, -5.76611543e-17,  8.76880660e-17,\n",
       "         1.74262293e-16,  4.45109428e-16, -1.10414597e-15,\n",
       "        -1.42258314e-16, -6.24239826e-17, -4.10958361e-17,\n",
       "        -1.10190540e-17, -2.11551689e-17,  2.72743311e-17,\n",
       "         5.09243102e-17,  2.33231022e-17, -2.36357317e-17,\n",
       "        -9.74840278e-18,  6.19773760e-17,  1.97096066e-17,\n",
       "        -6.74298326e-17, -2.60103105e-17, -1.01642023e-17,\n",
       "        -4.19018449e-17,  7.71071227e-18,  7.37352408e-17,\n",
       "        -4.24741228e-17, -4.61429611e-17,  3.88616620e-17,\n",
       "         3.56654046e-17,  5.63110600e-17, -5.82597748e-17,\n",
       "         1.04526820e-16,  4.74420694e-17,  1.24949938e-17,\n",
       "         2.99729316e-18,  1.90827187e-18,  3.09047191e-17,\n",
       "        -5.71845670e-18,  3.79935161e-18, -3.36835197e-17,\n",
       "         1.00951245e-16,  1.47013109e-17,  3.47496472e-17,\n",
       "         4.33685507e-17,  5.11561545e-17, -4.24004192e-18],\n",
       "       [-2.56239368e-03, -7.70274037e-02,  8.07857494e-02,\n",
       "         9.35905034e-02,  3.23382761e+00, -1.71195304e+01,\n",
       "         3.51428211e+00,  9.49809234e-03, -1.46261475e+00,\n",
       "         3.35753851e-01, -1.42615642e-02, -9.03809179e-01,\n",
       "         9.46334102e-03, -5.22395399e-01, -1.53411071e-02,\n",
       "         1.54337563e-03,  1.05850044e-02,  9.10567900e-03,\n",
       "        -1.39072600e-02, -9.55307931e-03, -1.28872012e-02,\n",
       "         2.44530932e-02,  3.12464130e-03,  5.77401926e-03,\n",
       "         1.04672503e-02,  8.53342078e-03,  1.06211614e-03,\n",
       "         1.36006830e-02, -2.16796233e-02, -2.03438938e-02,\n",
       "        -6.55441645e-03,  5.38873830e-03,  2.29764703e-03,\n",
       "        -1.01597562e-02, -8.66771487e-03,  4.30947317e-03,\n",
       "        -3.07944989e-02, -1.54576296e-02,  1.17461076e-02,\n",
       "        -1.25176586e-03,  1.02105734e-03, -1.86143872e-03,\n",
       "        -2.74391998e-03,  8.20849780e-03, -2.24944295e-02,\n",
       "        -9.76731334e-04,  4.95638989e-03,  3.21873881e-03,\n",
       "        -3.52975218e-03,  4.80803653e-03,  1.92822274e-02]])"
      ]
     },
     "execution_count": 71,
     "metadata": {},
     "output_type": "execute_result"
    }
   ],
   "source": [
    "regression = linear_model.LinearRegression()\n",
    "regression.fit(X_train, y_train)\n",
    "lin_pred = regression.predict(X_test)\n",
    "print( mean_squared_error(y_test, lin_pred), regression.score(X_test, y_test))\n"
   ]
  },
  {
   "cell_type": "code",
   "execution_count": 11,
   "id": "7c164e24",
   "metadata": {},
   "outputs": [
    {
     "data": {
      "text/plain": [
       "Lasso(alpha=1)"
      ]
     },
     "execution_count": 11,
     "metadata": {},
     "output_type": "execute_result"
    }
   ],
   "source": [
    "## I imported lasso in the beginining\n",
    "lasso = Lasso(alpha = 1)\n",
    "lasso.fit(X_train, y_train)"
   ]
  },
  {
   "cell_type": "code",
   "execution_count": 261,
   "id": "4ae3f7c3",
   "metadata": {},
   "outputs": [
    {
     "name": "stdout",
     "output_type": "stream",
     "text": [
      "13.674590085568319 0.8447071647041678\n"
     ]
    }
   ],
   "source": [
    "lasso = Lasso(alpha = .50)\n",
    "lasso.fit(X_train, y_train)\n",
    "\n",
    "y_pred = lasso.predict(X_test) # these are the predice values\n",
    "mean_squared_error(y_test, y_pred)\n",
    "print( mean_squared_error(y_test, y_pred), lasso.score(X_test, y_test))"
   ]
  },
  {
   "cell_type": "code",
   "execution_count": 262,
   "id": "95530dee",
   "metadata": {},
   "outputs": [
    {
     "name": "stdout",
     "output_type": "stream",
     "text": [
      "12.097189372542422 0.8626205520736281\n"
     ]
    }
   ],
   "source": [
    "ridge =  Ridge(alpha= .50)\n",
    "ridge.fit(X_train, y_train)\n",
    "ridgey_pred = ridge.predict(X_test)\n",
    "\n",
    "print( mean_squared_error(y_test, ridgey_pred), ridge.score(X_test, y_test) )"
   ]
  },
  {
   "cell_type": "code",
   "execution_count": 31,
   "id": "3e1d4924",
   "metadata": {},
   "outputs": [
    {
     "name": "stdout",
     "output_type": "stream",
     "text": [
      "Lambda= 0.0011   MSE=  12.13381999107457\n",
      "Lambda= 0.0021   MSE=  12.127816769778036\n",
      "Lambda= 0.0031   MSE=  12.122299885483894\n",
      "Lambda= 0.0041   MSE=  12.117268909131955\n",
      "Lambda= 0.0051   MSE=  12.11272358024492\n",
      "Lambda= 0.0061   MSE=  12.108664251860768\n",
      "Lambda= 0.0071   MSE=  12.105090439331372\n",
      "Lambda= 0.0081   MSE=  12.10200281453388\n",
      "Lambda= 0.0091   MSE=  12.099400522962485\n",
      "Lambda= 0.0101   MSE=  12.097283986184408\n",
      "Lambda= 0.011099999999999999   MSE=  12.095653196590188\n",
      "Lambda= 0.0121   MSE=  12.094508904141637\n",
      "Lambda= 0.0131   MSE=  12.093849650409611\n",
      "Lambda= 0.0141   MSE=  12.093676146633127\n"
     ]
    }
   ],
   "source": [
    "## now we're going to loop throug many values. We're looping with cross validatioon so that we can minimize the MSE\n",
    "## we will use loops to help with finding the right lambda value.\n",
    "lastmse = 0\n",
    "for i in np.arange(0.0001, 1.0, 0.001):\n",
    "    X_train, X_test, y_train, y_test = train_test_split(X,y,test_size = .33, random_state = 1)\n",
    "    lasso = Lasso(alpha = i )\n",
    "    lasso.fit(X_train, y_train)\n",
    "    y_pred = lasso.predict(X_test)\n",
    "    mean_squared_error(y_test, y_pred)\n",
    "    if (mean_squared_error(y_test, y_pred)) < lastmse:\n",
    "        print(\"Lambda=\", i ,\" \", \"MSE= \", mean_squared_error(y_test, y_pred))\n",
    "    lastmse = mean_squared_error(y_test, y_pred)"
   ]
  },
  {
   "cell_type": "code",
   "execution_count": 246,
   "id": "a9c2ba93",
   "metadata": {},
   "outputs": [
    {
     "name": "stdout",
     "output_type": "stream",
     "text": [
      "[[ 9.99999340e-01  0.00000000e+00 -0.00000000e+00  0.00000000e+00\n",
      "   0.00000000e+00  0.00000000e+00 -0.00000000e+00  0.00000000e+00\n",
      "  -0.00000000e+00  0.00000000e+00  0.00000000e+00  0.00000000e+00\n",
      "  -0.00000000e+00  0.00000000e+00 -0.00000000e+00  0.00000000e+00\n",
      "  -0.00000000e+00  0.00000000e+00 -0.00000000e+00  0.00000000e+00\n",
      "  -0.00000000e+00 -0.00000000e+00  0.00000000e+00  0.00000000e+00\n",
      "  -0.00000000e+00  0.00000000e+00  0.00000000e+00  0.00000000e+00\n",
      "  -0.00000000e+00 -0.00000000e+00 -0.00000000e+00  0.00000000e+00\n",
      "   0.00000000e+00  0.00000000e+00  0.00000000e+00 -0.00000000e+00\n",
      "   0.00000000e+00  0.00000000e+00  0.00000000e+00  0.00000000e+00\n",
      "  -0.00000000e+00 -0.00000000e+00 -0.00000000e+00  0.00000000e+00\n",
      "   0.00000000e+00  0.00000000e+00 -0.00000000e+00 -0.00000000e+00\n",
      "   0.00000000e+00  0.00000000e+00  0.00000000e+00]\n",
      " [-2.48664885e-03 -7.16638149e-02  8.17682397e-02  6.81778771e-02\n",
      "   2.98972645e+00 -1.17843776e+01  3.53368391e+00  6.22954660e-03\n",
      "  -1.37453545e+00  3.20749525e-01 -1.47992373e-02 -8.40793857e-01\n",
      "   9.84145705e-03 -5.31372580e-01 -1.60909616e-02  1.15968415e-03\n",
      "   1.03591806e-02  9.73391835e-03 -1.46122857e-02 -7.61044217e-03\n",
      "  -1.31432265e-02  2.48103843e-02  2.70246417e-03  6.10877016e-03\n",
      "   1.15497291e-02  7.40085110e-03  2.61206071e-03  1.47288372e-02\n",
      "  -2.25037975e-02 -2.26879579e-02 -7.14956858e-03  5.12805214e-03\n",
      "   2.06183331e-03 -1.09926144e-02 -7.61396103e-03  4.48401585e-03\n",
      "  -3.09611543e-02 -1.62349504e-02  1.12438331e-02 -1.56937035e-03\n",
      "   9.98516868e-04 -2.55439156e-03 -2.48976351e-03  7.74560467e-03\n",
      "  -2.18734675e-02 -1.50737288e-03  5.74163677e-03  3.58817059e-03\n",
      "  -4.00785491e-03  5.61521280e-03  1.98419179e-02]]\n"
     ]
    }
   ],
   "source": [
    "lasso = Lasso(alpha =   .0141 )\n",
    "lasso.fit(X_train, y_train)\n",
    "y_pred = lasso.predict(X_test)\n",
    "print( lasso.coef_)"
   ]
  },
  {
   "cell_type": "code",
   "execution_count": 77,
   "id": "763eb6f0",
   "metadata": {},
   "outputs": [
    {
     "name": "stdout",
     "output_type": "stream",
     "text": [
      "[2, 3, 4, 6, 9, 16, 21, 24, 27, 38, 50]\n"
     ]
    }
   ],
   "source": [
    "newlassocoef = []\n",
    "\n",
    "for i in range(1,51):\n",
    "    if (lasso.coef_[1][i]) > .11:\n",
    "        newlassocoef.append(i)\n",
    "        \n",
    "print(newlassocoef)"
   ]
  },
  {
   "cell_type": "code",
   "execution_count": 20,
   "id": "6be15dec",
   "metadata": {},
   "outputs": [
    {
     "name": "stdout",
     "output_type": "stream",
     "text": [
      "MSE =  12.093676146633127 R^2 =  0.8626604494105851\n",
      "MSE =  13.746031619852896 R^2 =  0.8438958561852987\n",
      "MSE =  16.37302939661061 R^2 =  0.8140630538256489\n",
      "MSE =  17.64898388242207 R^2 =  0.7995732518438025\n",
      "MSE =  18.58866122055102 R^2 =  0.7889024500571222\n",
      "MSE =  19.421868985113726 R^2 =  0.7794408821232177\n",
      "MSE =  19.978450093702794 R^2 =  0.7731209048336083\n",
      "MSE =  20.411366272164674 R^2 =  0.768205437218169\n",
      "MSE =  20.447955537526397 R^2 =  0.767790913625283\n",
      "MSE =  20.49994461290806 R^2 =  0.7672016372316686\n",
      "MSE =  20.58729342499987 R^2 =  0.7662109368970335\n",
      "MSE =  20.70889280010553 R^2 =  0.7648314087431183\n",
      "MSE =  20.855387063040073 R^2 =  0.7631692987294042\n",
      "MSE =  21.001938547792136 R^2 =  0.7615066711221772\n",
      "MSE =  21.171714972697888 R^2 =  0.7595804261007447\n",
      "MSE =  21.362593707637583 R^2 =  0.7574146689134442\n",
      "MSE =  21.573646676111018 R^2 =  0.7550199390858882\n",
      "MSE =  21.71463877381845 R^2 =  0.7534209745494054\n",
      "MSE =  21.806346504513957 R^2 =  0.752381830860396\n",
      "MSE =  21.91282314944993 R^2 =  0.7511750990195045\n",
      "MSE =  22.03177217465756 R^2 =  0.7498268591813083\n",
      "MSE =  22.160397185723564 R^2 =  0.7483688680711802\n",
      "MSE =  22.296831337902073 R^2 =  0.746822326159135\n",
      "MSE =  22.44056386834809 R^2 =  0.7451930338270225\n",
      "MSE =  22.591594931006984 R^2 =  0.743480989326591\n",
      "MSE =  22.74992291024026 R^2 =  0.7416862110055342\n",
      "MSE =  22.906234914355156 R^2 =  0.7399144589606792\n",
      "MSE =  23.060903150963203 R^2 =  0.7381615062865347\n",
      "MSE =  23.220036581452515 R^2 =  0.7363579777160798\n",
      "MSE =  23.384686667781253 R^2 =  0.7344919325200363\n",
      "MSE =  23.55485654646764 R^2 =  0.732563335079127\n",
      "MSE =  23.72655065703275 R^2 =  0.7306175602218223\n",
      "MSE =  23.89367434266635 R^2 =  0.7287238207679048\n",
      "MSE =  24.066190967042044 R^2 =  0.7267689696582642\n",
      "MSE =  24.244101224642787 R^2 =  0.7247529990061361\n",
      "MSE =  24.42740517687043 R^2 =  0.7226759081142222\n",
      "MSE =  24.616102823725004 R^2 =  0.7205376969825219\n",
      "MSE =  24.810190613990578 R^2 =  0.7183384059397486\n",
      "MSE =  25.009813236509977 R^2 =  0.7160763918543669\n",
      "MSE =  25.214684679874438 R^2 =  0.7137549027609598\n",
      "MSE =  25.431535496968625 R^2 =  0.711297504405993\n",
      "MSE =  25.65869203870341 R^2 =  0.7087232032694686\n",
      "MSE =  25.891324669910063 R^2 =  0.7060868461916523\n",
      "MSE =  26.129433562902793 R^2 =  0.7033884312156902\n",
      "MSE =  26.37301873576838 R^2 =  0.7006279581361832\n",
      "MSE =  26.62208012202564 R^2 =  0.6978054277081125\n",
      "MSE =  26.876224660997337 R^2 =  0.6949253036508738\n",
      "MSE =  27.120830851560342 R^2 =  0.6921536322823627\n",
      "MSE =  27.37118320514887 R^2 =  0.68931683793322\n",
      "MSE =  27.638479845998727 R^2 =  0.686287751219056\n",
      "MSE =  27.91103099260842 R^2 =  0.6831991249372049\n",
      "MSE =  28.188677548942543 R^2 =  0.6800527658317654\n",
      "MSE =  28.471485764563315 R^2 =  0.6768479215520882\n",
      "MSE =  28.811289139808846 R^2 =  0.6729959547344528\n",
      "MSE =  29.156493823605988 R^2 =  0.6690827812109326\n",
      "MSE =  29.50783627879232 R^2 =  0.6651000374803095\n",
      "MSE =  29.86531871391117 R^2 =  0.6610476984616787\n",
      "MSE =  30.229008600027687 R^2 =  0.6569249979326226\n",
      "MSE =  30.598698280834952 R^2 =  0.6527342941027987\n",
      "MSE =  30.97460195101924 R^2 =  0.6484731545106784\n",
      "MSE =  31.353194837260286 R^2 =  0.6441816075792204\n",
      "MSE =  31.351570293899673 R^2 =  0.6442080603614115\n",
      "MSE =  31.350539139402446 R^2 =  0.6442279066702274\n",
      "MSE =  31.35010137376866 R^2 =  0.6442411465056676\n",
      "MSE =  31.350256996998258 R^2 =  0.6442477798677324\n",
      "MSE =  31.351006009091222 R^2 =  0.6442478067564223\n",
      "MSE =  31.35234841004763 R^2 =  0.6442412271717364\n",
      "MSE =  31.354284199867443 R^2 =  0.6442280411136749\n",
      "MSE =  31.356813639102473 R^2 =  0.6442082456233307\n",
      "MSE =  31.359936678808122 R^2 =  0.6441818412565334\n",
      "MSE =  31.363653114913575 R^2 =  0.6441488303307752\n",
      "MSE =  31.367962947418828 R^2 =  0.6441092128460559\n",
      "MSE =  31.372866176323875 R^2 =  0.6440629888023754\n",
      "MSE =  31.378362801628715 R^2 =  0.6440101581997341\n",
      "MSE =  31.384452823333376 R^2 =  0.6439507210381314\n",
      "MSE =  31.39113624143781 R^2 =  0.6438846773175679\n",
      "MSE =  31.39841305594205 R^2 =  0.6438120270380434\n",
      "MSE =  31.40628326684611 R^2 =  0.6437327701995574\n",
      "MSE =  31.414746874149944 R^2 =  0.6436469068021107\n",
      "MSE =  31.423803877853576 R^2 =  0.6435544368457029\n",
      "MSE =  31.433454277957043 R^2 =  0.6434553603303337\n",
      "MSE =  31.443698074460286 R^2 =  0.6433496772560036\n",
      "MSE =  31.45453526736332 R^2 =  0.6432373876227124\n",
      "MSE =  31.465965856666145 R^2 =  0.6431184914304604\n",
      "MSE =  31.477967743153823 R^2 =  0.642993239644811\n",
      "MSE =  31.490657310753946 R^2 =  0.6428603105736562\n",
      "MSE =  31.50747209545731 R^2 =  0.6426806664883049\n",
      "MSE =  31.524833811792657 R^2 =  0.6424949435123587\n",
      "MSE =  31.5427491822315 R^2 =  0.6423030653033386\n",
      "MSE =  31.56121817006114 R^2 =  0.6421050322781654\n",
      "MSE =  31.580240723894363 R^2 =  0.6419008450204082\n",
      "MSE =  31.599816833601537 R^2 =  0.6416905036451025\n",
      "MSE =  31.61994652257875 R^2 =  0.6414740078865548\n",
      "MSE =  31.640629771835936 R^2 =  0.6412513579604223\n",
      "MSE =  31.661866575064995 R^2 =  0.6410225539383418\n",
      "MSE =  31.683656932266008 R^2 =  0.6407875958203124\n",
      "MSE =  31.706000843438932 R^2 =  0.6405464836063346\n",
      "MSE =  31.728898308583716 R^2 =  0.6402992172964086\n",
      "MSE =  31.752349336860075 R^2 =  0.6400457967865143\n",
      "MSE =  31.77635392065031 R^2 =  0.6397862221631605\n",
      "MSE =  31.800912057440964 R^2 =  0.6395204934548908\n",
      "MSE =  31.82602386721498 R^2 =  0.6392486092991415\n",
      "MSE =  31.851689221335732 R^2 =  0.6389705711567502\n",
      "MSE =  31.877908116065452 R^2 =  0.638686379070164\n",
      "MSE =  31.904680551404084 R^2 =  0.638396033039384\n",
      "MSE =  31.932006527351636 R^2 =  0.6380995330644097\n",
      "MSE =  31.959886043908117 R^2 =  0.6377968791452411\n",
      "MSE =  31.98831910155642 R^2 =  0.6374880712763942\n",
      "MSE =  32.017305703581 R^2 =  0.6371731094205699\n",
      "MSE =  32.04684584557173 R^2 =  0.6368519936278509\n",
      "MSE =  32.07693952752861 R^2 =  0.6365247238982372\n",
      "MSE =  32.10758674945168 R^2 =  0.6361913002317285\n",
      "MSE =  32.138787511340894 R^2 =  0.635851722628325\n",
      "MSE =  32.16478724336025 R^2 =  0.6355713417742724\n",
      "MSE =  32.17646708131867 R^2 =  0.6354537143296951\n",
      "MSE =  32.188259733368575 R^2 =  0.6353349379684377\n",
      "MSE =  32.200159765540896 R^2 =  0.6352150744003442\n",
      "MSE =  32.21216764302193 R^2 =  0.6350941183426144\n",
      "MSE =  32.22434867003103 R^2 =  0.6349713281802065\n",
      "MSE =  32.23657074830274 R^2 =  0.6348482040621404\n",
      "MSE =  32.248900179636905 R^2 =  0.6347239930445396\n",
      "MSE =  32.26133696403352 R^2 =  0.6345986951274044\n",
      "MSE =  32.27388110149257 R^2 =  0.6344723103107347\n",
      "MSE =  32.28653259201402 R^2 =  0.634344838594531\n",
      "MSE =  32.29929143559791 R^2 =  0.6342162799787929\n",
      "MSE =  32.31215763224425 R^2 =  0.6340866344635203\n",
      "MSE =  32.32513118195301 R^2 =  0.6339559020487134\n",
      "MSE =  32.33821208472423 R^2 =  0.633824082734372\n",
      "MSE =  32.35140034055788 R^2 =  0.633691176520496\n",
      "MSE =  32.36469594945394 R^2 =  0.6335571834070861\n",
      "MSE =  32.37816767962026 R^2 =  0.6334213224409686\n",
      "MSE =  32.391670954143734 R^2 =  0.6332852354825705\n",
      "MSE =  32.40528139982588 R^2 =  0.6331480636903938\n",
      "MSE =  32.418999016666696 R^2 =  0.6330098070644383\n",
      "MSE =  32.43282380466616 R^2 =  0.6328704656047047\n",
      "MSE =  32.44682480958075 R^2 =  0.6327292552060907\n",
      "MSE =  32.46084671140367 R^2 =  0.6325879397309389\n",
      "MSE =  32.47497539045777 R^2 =  0.6324455438955717\n",
      "MSE =  32.489247158815964 R^2 =  0.6323016553287863\n",
      "MSE =  32.50354804606293 R^2 =  0.6321575683140943\n",
      "MSE =  32.51786801337059 R^2 =  0.6320133968555518\n",
      "MSE =  32.5324719491804 R^2 =  0.6318661327975676\n",
      "MSE =  32.54722044419662 R^2 =  0.631717359315497\n",
      "MSE =  32.56198978663802 R^2 =  0.6315684813188347\n",
      "MSE =  32.57696609838699 R^2 =  0.6314173851495517\n",
      "MSE =  32.59196976913168 R^2 =  0.6312661105182549\n",
      "MSE =  32.607080611035066 R^2 =  0.6311137510531792\n",
      "MSE =  32.62230350493999 R^2 =  0.630960251325954\n",
      "MSE =  32.637634870839285 R^2 =  0.6308056519922554\n",
      "MSE =  32.653073526680146 R^2 =  0.6306499664758423\n",
      "MSE =  32.6687132657225 R^2 =  0.630492129631261\n",
      "MSE =  32.68437365838814 R^2 =  0.6303341904729627\n",
      "MSE =  32.700141458938056 R^2 =  0.6301751637925562\n",
      "MSE =  32.716016667372315 R^2 =  0.6300150495900405\n",
      "MSE =  32.731999283690804 R^2 =  0.6298538478654172\n",
      "MSE =  32.7480893078936 R^2 =  0.6296915586186852\n",
      "MSE =  32.76428673998071 R^2 =  0.6295281818498446\n",
      "MSE =  32.776390298905895 R^2 =  0.6294114286141621\n",
      "MSE =  32.78538868211862 R^2 =  0.6293300709556561\n",
      "MSE =  32.794441736491294 R^2 =  0.6292482246696982\n",
      "MSE =  32.80353582321666 R^2 =  0.629166044642829\n",
      "MSE =  32.81267092203681 R^2 =  0.6290835311051037\n",
      "MSE =  32.82184642169464 R^2 =  0.6290006909981481\n",
      "MSE =  32.83106219099636 R^2 =  0.6289175258118398\n",
      "MSE =  32.84031823570588 R^2 =  0.6288340354807218\n",
      "MSE =  32.84961463066799 R^2 =  0.6287502191548335\n",
      "MSE =  32.85895133170354 R^2 =  0.6286660773358874\n",
      "MSE =  32.86832829997766 R^2 =  0.628581610464904\n",
      "MSE =  32.8777455354903 R^2 =  0.628496818541884\n",
      "MSE =  32.88720303824152 R^2 =  0.6284117015668265\n",
      "MSE =  32.896700808231266 R^2 =  0.6283262595397325\n",
      "MSE =  32.90623884545961 R^2 =  0.628240492460601\n",
      "MSE =  32.91581714992648 R^2 =  0.6281544003294326\n",
      "MSE =  32.925435721631885 R^2 =  0.6280679831462277\n",
      "MSE =  32.93509456057585 R^2 =  0.6279812409109854\n",
      "MSE =  32.94479366675838 R^2 =  0.6278941736237063\n",
      "MSE =  32.95453304017947 R^2 =  0.6278067812843899\n",
      "MSE =  32.9643126808391 R^2 =  0.6277190638930367\n",
      "MSE =  32.97413258873729 R^2 =  0.6276310214496463\n",
      "MSE =  32.983992763874014 R^2 =  0.6275426539542193\n"
     ]
    }
   ],
   "source": [
    "for itt in np.arange(0.0141   , 90, 0.5):\n",
    "    lasso = Lasso(alpha =   itt  )\n",
    "    lasso.fit(X_train, y_train)\n",
    "    y_pred = lasso.predict(X_test)\n",
    "    print(\"MSE = \", mean_squared_error(y_test, y_pred) , \"R^2 = \" ,lasso.score(X_test, y_test))"
   ]
  },
  {
   "cell_type": "code",
   "execution_count": 21,
   "id": "78936877",
   "metadata": {},
   "outputs": [
    {
     "name": "stdout",
     "output_type": "stream",
     "text": [
      "MSE= 16  Zero-Count= 8  Lambda=  1\n",
      "MSE= 19  Zero-Count= 14  Lambda=  2\n",
      "MSE= 20  Zero-Count= 19  Lambda=  3\n",
      "MSE= 20  Zero-Count= 23  Lambda=  4\n",
      "MSE= 21  Zero-Count= 28  Lambda=  5\n",
      "MSE= 21  Zero-Count= 32  Lambda=  6\n",
      "MSE= 21  Zero-Count= 32  Lambda=  7\n",
      "MSE= 22  Zero-Count= 34  Lambda=  8\n",
      "MSE= 22  Zero-Count= 37  Lambda=  9\n",
      "MSE= 22  Zero-Count= 38  Lambda=  10\n",
      "MSE= 22  Zero-Count= 39  Lambda=  11\n",
      "MSE= 23  Zero-Count= 39  Lambda=  12\n",
      "MSE= 23  Zero-Count= 41  Lambda=  13\n",
      "MSE= 23  Zero-Count= 42  Lambda=  14\n",
      "MSE= 24  Zero-Count= 42  Lambda=  15\n",
      "MSE= 24  Zero-Count= 43  Lambda=  16\n",
      "MSE= 24  Zero-Count= 43  Lambda=  17\n",
      "MSE= 25  Zero-Count= 43  Lambda=  18\n",
      "MSE= 25  Zero-Count= 43  Lambda=  19\n",
      "MSE= 25  Zero-Count= 44  Lambda=  20\n",
      "MSE= 26  Zero-Count= 44  Lambda=  21\n",
      "MSE= 26  Zero-Count= 44  Lambda=  22\n",
      "MSE= 27  Zero-Count= 44  Lambda=  23\n",
      "MSE= 27  Zero-Count= 46  Lambda=  24\n",
      "MSE= 28  Zero-Count= 46  Lambda=  25\n",
      "MSE= 28  Zero-Count= 46  Lambda=  26\n",
      "MSE= 29  Zero-Count= 45  Lambda=  27\n",
      "MSE= 30  Zero-Count= 45  Lambda=  28\n",
      "MSE= 31  Zero-Count= 45  Lambda=  29\n",
      "MSE= 31  Zero-Count= 45  Lambda=  30\n",
      "MSE= 31  Zero-Count= 46  Lambda=  31\n",
      "MSE= 31  Zero-Count= 46  Lambda=  32\n",
      "MSE= 31  Zero-Count= 46  Lambda=  33\n",
      "MSE= 31  Zero-Count= 46  Lambda=  34\n",
      "MSE= 31  Zero-Count= 46  Lambda=  35\n",
      "MSE= 31  Zero-Count= 46  Lambda=  36\n",
      "MSE= 31  Zero-Count= 46  Lambda=  37\n",
      "MSE= 31  Zero-Count= 46  Lambda=  38\n",
      "MSE= 31  Zero-Count= 46  Lambda=  39\n",
      "MSE= 31  Zero-Count= 46  Lambda=  40\n",
      "MSE= 31  Zero-Count= 46  Lambda=  41\n",
      "MSE= 31  Zero-Count= 46  Lambda=  42\n",
      "MSE= 32  Zero-Count= 47  Lambda=  43\n",
      "MSE= 32  Zero-Count= 47  Lambda=  44\n",
      "MSE= 32  Zero-Count= 47  Lambda=  45\n",
      "MSE= 32  Zero-Count= 47  Lambda=  46\n",
      "MSE= 32  Zero-Count= 47  Lambda=  47\n",
      "MSE= 32  Zero-Count= 47  Lambda=  48\n",
      "MSE= 32  Zero-Count= 47  Lambda=  49\n"
     ]
    }
   ],
   "source": [
    "## Here we're counting the \n",
    "listt = []\n",
    "MSEval = []\n",
    "for itt in np.arange(1 , 50, 1):\n",
    "    lasso = Lasso(alpha =   itt   )\n",
    "    lasso.fit(X_train, y_train)\n",
    "    y_pred = lasso.predict(X_test)\n",
    "    coeff = lasso.coef_\n",
    "    count = (coeff[1] == 0).sum()\n",
    "    listt.append(count)\n",
    "    MSEval.append(mean_squared_error(y_test, y_pred))\n",
    "    print( \"MSE=\", round(mean_squared_error(y_test, y_pred)), \" Zero-Count=\", count,  \" Lambda= \", itt )"
   ]
  },
  {
   "cell_type": "code",
   "execution_count": 29,
   "id": "c4efbb13",
   "metadata": {},
   "outputs": [
    {
     "data": {
      "text/plain": [
       "Text(0, 0.5, 'Zero Coefficients: Blue. MSE: Orange')"
      ]
     },
     "execution_count": 29,
     "metadata": {},
     "output_type": "execute_result"
    },
    {
     "data": {
      "image/png": "[encoded data removed]",
      "text/plain": [
       "<Figure size 432x288 with 1 Axes>"
      ]
     },
     "metadata": {
      "needs_background": "light"
     },
     "output_type": "display_data"
    }
   ],
   "source": [
    "plt.plot(listt)\n",
    "plt.plot(MSEval)\n",
    "\n",
    "plt.xlim([0, 50])\n",
    "plt.ylim([0, 50])\n",
    "plt.xlabel('Lambda')\n",
    "plt.ylabel('Zero Coefficients: Blue. MSE: Orange')\n",
    "\n",
    "## I think we should stop at lambda = 23 because then 46 coeficient turn zero \n"
   ]
  },
  {
   "cell_type": "code",
   "execution_count": 53,
   "id": "09a7082c",
   "metadata": {},
   "outputs": [],
   "source": [
    "pcalist = []\n",
    "\n",
    "for itter in np.arange(.01 , .99, .01):\n",
    "    pca = PCA(itter)\n",
    "    pca.fit_transform(X)\n",
    "    PCA_of_X = pca.fit_transform(X)\n",
    "    pcalist.append(PCA_of_X.shape[1])"
   ]
  },
  {
   "cell_type": "code",
   "execution_count": 51,
   "id": "aa29fc32",
   "metadata": {},
   "outputs": [
    {
     "data": {
      "text/plain": [
       "array([0.53108574, 0.10856651, 0.07311851, 0.01230447, 0.01171914,\n",
       "       0.01130999, 0.01110528, 0.01033582, 0.01008608, 0.00970541,\n",
       "       0.00945147, 0.00912044, 0.0088492 , 0.00858337, 0.00836713,\n",
       "       0.00823583, 0.00797266, 0.00782171, 0.00769005, 0.00749692,\n",
       "       0.00738549, 0.00730042, 0.00705926, 0.00699545, 0.00676006,\n",
       "       0.00657141, 0.0064175 , 0.00639399, 0.00622791, 0.00607382,\n",
       "       0.00585982, 0.0057244 , 0.00545229, 0.0053774 , 0.00533095,\n",
       "       0.00516429, 0.00487807, 0.00477246])"
      ]
     },
     "execution_count": 51,
     "metadata": {},
     "output_type": "execute_result"
    }
   ],
   "source": [
    "pca.explained_variance_ratio_"
   ]
  },
  {
   "cell_type": "code",
   "execution_count": 58,
   "id": "4ae00fdb",
   "metadata": {},
   "outputs": [
    {
     "data": {
      "text/plain": [
       "Text(0, 0.5, '# of principle components ')"
      ]
     },
     "execution_count": 58,
     "metadata": {},
     "output_type": "execute_result"
    },
    {
     "data": {
      "image/png": "[encoded data removed]",
      "text/plain": [
       "<Figure size 432x288 with 1 Axes>"
      ]
     },
     "metadata": {
      "needs_background": "light"
     },
     "output_type": "display_data"
    }
   ],
   "source": [
    "plt.plot(pcalist)\n",
    "\n",
    "plt.xlim([0,100])\n",
    "plt.ylim([0,40])\n",
    "plt.xlabel('Explined varience by PCA')\n",
    "plt.ylabel('# of principle components ')\n"
   ]
  },
  {
   "cell_type": "code",
   "execution_count": 203,
   "id": "44c65eef",
   "metadata": {},
   "outputs": [
    {
     "data": {
      "text/plain": [
       "(506, 3)"
      ]
     },
     "execution_count": 203,
     "metadata": {},
     "output_type": "execute_result"
    }
   ],
   "source": [
    "#it looks like we ca capture most of the varience with 3 principal components\n",
    "pca = PCA(.7121)\n",
    "pca.fit_transform(X)\n",
    "PCA_of_X = pca.fit_transform(X)\n",
    "PCA_of_X.shape"
   ]
  },
  {
   "cell_type": "code",
   "execution_count": 199,
   "id": "ba27c781",
   "metadata": {},
   "outputs": [
    {
     "name": "stdout",
     "output_type": "stream",
     "text": [
      "34.347495491477176 0.6287684477295732\n"
     ]
    }
   ],
   "source": [
    "## Below I will try to train simple regression on PCA with 3 compomponents.\n",
    "regression = linear_model.LinearRegression()\n",
    "regression.fit(PCA_of_X, y)\n",
    "\n",
    "PCAlin_pred = regression.predict(PCA_of_X)\n",
    "print( mean_squared_error(y, PCAlin_pred), regression.score(PCA_of_X, y))"
   ]
  },
  {
   "cell_type": "code",
   "execution_count": 104,
   "id": "dbe53b6b",
   "metadata": {},
   "outputs": [
    {
     "data": {
      "text/plain": [
       "(506, 3)"
      ]
     },
     "execution_count": 104,
     "metadata": {},
     "output_type": "execute_result"
    }
   ],
   "source": [
    "\n",
    "PCA_of_X.shape"
   ]
  },
  {
   "attachments": {
    "image.png": {
     "image/png": "[encoded data removed]"
    }
   },
   "cell_type": "markdown",
   "id": "dc92a4fb",
   "metadata": {},
   "source": [
    "![image.png](attachment:image.png)\n"
   ]
  },
  {
   "cell_type": "code",
   "execution_count": 207,
   "id": "8bcec692",
   "metadata": {},
   "outputs": [
    {
     "data": {
      "text/plain": [
       "array([[ 9.99999788e-01, -2.17384913e-03],\n",
       "       [-1.22512953e-07, -8.25239998e-02],\n",
       "       [ 1.22929502e-07,  6.18448888e-02],\n",
       "       [-5.35660546e-08, -1.16869145e-02],\n",
       "       [ 1.69338684e-06,  3.22978157e+00],\n",
       "       [ 6.49799908e-06, -5.17294872e-01],\n",
       "       [ 3.34677734e-06,  5.70324292e+00],\n",
       "       [-2.25388859e-07, -1.86920995e-03],\n",
       "       [-1.68529287e-06, -9.95335693e-01],\n",
       "       [ 1.56765322e-06,  1.80736691e-01],\n",
       "       [ 6.81455772e-08, -1.00740135e-02],\n",
       "       [ 3.86100433e-07, -3.83740474e-01],\n",
       "       [-1.70609619e-10,  1.58759954e-02],\n",
       "       [ 3.20484325e-08, -4.32291407e-01],\n",
       "       [-4.40763042e-08, -1.80126844e-02],\n",
       "       [-1.34958310e-08,  3.34822412e-03],\n",
       "       [-4.89889689e-08,  5.70731228e-03],\n",
       "       [-5.86110592e-08,  1.56553095e-02],\n",
       "       [ 1.99378876e-08, -2.23837881e-02],\n",
       "       [ 3.43329067e-08, -7.22836963e-04],\n",
       "       [-4.21778227e-08, -6.42513141e-03],\n",
       "       [-7.42227521e-08,  1.15467649e-02],\n",
       "       [ 6.39597266e-08,  2.59354889e-03],\n",
       "       [-2.89248542e-08,  1.50602235e-03],\n",
       "       [-5.74594201e-08,  8.20796382e-03],\n",
       "       [-3.69912335e-10,  7.23818219e-03],\n",
       "       [-4.26646020e-08,  5.33862079e-03],\n",
       "       [ 1.06742038e-09,  1.55204520e-02],\n",
       "       [-5.25687957e-08, -1.05465283e-02],\n",
       "       [-8.49976429e-09, -2.10212024e-02],\n",
       "       [-6.90011498e-09, -3.29937472e-03],\n",
       "       [ 6.03944893e-08,  6.98637350e-03],\n",
       "       [-1.77014425e-08, -9.63048683e-04],\n",
       "       [ 6.08914061e-08, -6.56724307e-03],\n",
       "       [-1.06159781e-08, -2.33780836e-03],\n",
       "       [-8.85819821e-08, -1.25611651e-02],\n",
       "       [ 7.82077689e-08, -1.60152450e-02],\n",
       "       [ 4.48622290e-08, -9.96144955e-03],\n",
       "       [ 1.65259329e-08,  1.81184060e-03],\n",
       "       [-4.10221493e-08, -8.55666875e-04],\n",
       "       [ 4.29800191e-08, -1.19057575e-04],\n",
       "       [ 6.75747434e-08, -2.87054922e-03],\n",
       "       [ 1.99013587e-09,  5.85705400e-03],\n",
       "       [ 7.94643302e-08, -2.26887294e-03],\n",
       "       [ 4.62170828e-08, -3.92604423e-03],\n",
       "       [ 3.42571820e-08,  6.50296410e-03],\n",
       "       [-2.53657177e-08,  1.53310380e-02],\n",
       "       [-8.19914534e-08,  8.91063970e-03],\n",
       "       [ 3.93299117e-08,  7.78309100e-03],\n",
       "       [ 2.20393908e-08,  7.26522465e-03],\n",
       "       [ 2.62524067e-08,  1.44312988e-02]])"
      ]
     },
     "execution_count": 207,
     "metadata": {},
     "output_type": "execute_result"
    }
   ],
   "source": [
    "# I will try to convert dataframe to array and \n",
    "# then I will use numpy to do all do the hard work.\n",
    "lamb = 1\n",
    "x_array = dfx.to_numpy()\n",
    "x_arrayT = x_array.transpose()\n",
    "y_array = dfy.to_numpy()\n",
    "\n",
    "xprod = np.matmul(x_arrayT, x_array)\n",
    "\n",
    "identity = np.identity(xprod.shape[1])\n",
    "\n",
    "lambdaidentity = lamb*identity\n",
    "\n",
    "insideinv = np.add(xprod,lambdaidentity)\n",
    "\n",
    "inversematrix = inv(insideinv)\n",
    "\n",
    "xTy = np.matmul(x_arrayT,y_array )\n",
    "\n",
    "myridgcoef = np.matmul(inversematrix, xTy)\n",
    "np.matmul(inversematrix, xTy)\n"
   ]
  },
  {
   "cell_type": "code",
   "execution_count": 250,
   "id": "f45e611a",
   "metadata": {},
   "outputs": [
    {
     "name": "stdout",
     "output_type": "stream",
     "text": [
      "[[ 9.99999997e-01 -1.72401243e-09  1.73748869e-09 -9.75984711e-10\n",
      "   2.40711062e-08  1.23044070e-07  4.34823397e-08 -3.22215626e-09\n",
      "  -2.39020625e-08  2.22567020e-08  9.49508923e-10  4.97138262e-09\n",
      "  -1.07424209e-11  1.89621283e-10 -6.27115474e-10 -2.02485911e-10\n",
      "  -6.88472411e-10 -8.38537342e-10  2.77174555e-10  4.92756769e-10\n",
      "  -5.96224684e-10 -1.04692095e-09  8.95137394e-10 -4.04592682e-10\n",
      "  -8.02598430e-10 -1.62546558e-11 -5.95157578e-10  1.22734034e-11\n",
      "  -7.55023967e-10 -1.24367009e-10 -1.04044441e-10  8.52744715e-10\n",
      "  -2.45160794e-10  8.45123921e-10 -1.47619568e-10 -1.24956466e-09\n",
      "   1.09776824e-09  6.21061672e-10  2.39057137e-10 -5.73624317e-10\n",
      "   5.99367733e-10  9.43306960e-10  1.87413928e-11  1.11719970e-09\n",
      "   6.44903257e-10  4.63860516e-10 -3.55484408e-10 -1.16198415e-09\n",
      "   5.52800510e-10  3.06932585e-10  3.64035954e-10]\n",
      " [-2.25849086e-03 -9.76474353e-02  5.84773392e-02  1.70319954e-02\n",
      "   3.09510119e+00 -1.52911986e+01  3.73300772e+00  4.69826567e-03\n",
      "  -1.48739069e+00  3.17455896e-01 -1.29291921e-02 -9.23720099e-01\n",
      "   1.04867445e-02 -5.26570241e-01 -1.74394867e-02  2.32121055e-04\n",
      "   6.42013004e-03  9.54716751e-03 -2.00165561e-02 -4.01516054e-03\n",
      "  -4.64899829e-03  1.04417166e-02  2.23557253e-03 -3.21111701e-05\n",
      "   6.09318199e-03  9.56489931e-03  4.40220644e-04  9.32023258e-03\n",
      "  -1.58039415e-02 -1.54084118e-02 -4.23075893e-03  8.41950644e-03\n",
      "   7.56203040e-04 -9.36214766e-03 -4.00977034e-03 -1.30364272e-02\n",
      "  -1.65764158e-02 -8.23744905e-03  5.89893195e-03 -6.82835598e-04\n",
      "  -4.93818330e-03 -4.61385259e-03  4.52787167e-04 -7.57746329e-04\n",
      "  -6.92738233e-03  3.37764676e-03  1.45686553e-02  6.22149680e-03\n",
      "   5.12714531e-03  2.69118465e-03  9.50023248e-03]]\n"
     ]
    }
   ],
   "source": [
    "newrig =  Ridge(alpha= .0141)\n",
    "newrig.fit(X, y)\n",
    "ridgey_pred = newrig.predict(X)\n",
    "print( newrig.coef_ )\n"
   ]
  },
  {
   "cell_type": "code",
   "execution_count": 251,
   "id": "58d3b781",
   "metadata": {},
   "outputs": [
    {
     "data": {
      "text/plain": [
       "(-10.0, 5.0)"
      ]
     },
     "execution_count": 251,
     "metadata": {},
     "output_type": "execute_result"
    },
    {
     "data": {
      "image/png": "[encoded data removed]",
      "text/plain": [
       "<Figure size 432x288 with 1 Axes>"
      ]
     },
     "metadata": {
      "needs_background": "light"
     },
     "output_type": "display_data"
    }
   ],
   "source": [
    "plt.plot(newrig.coef_[1])\n",
    "plt.plot(newrig.coef_[0])\n",
    "\n",
    "plt.title(\"SKlearn Ridge\")\n",
    "plt.xlabel('Some variable')\n",
    "plt.ylabel('Some other variable')\n",
    "\n",
    "\n",
    "plt.xlim([-10,60])\n",
    "plt.ylim([-10,5])"
   ]
  },
  {
   "cell_type": "code",
   "execution_count": 252,
   "id": "88d1176f",
   "metadata": {},
   "outputs": [
    {
     "data": {
      "text/plain": [
       "(-10.0, 5.0)"
      ]
     },
     "execution_count": 252,
     "metadata": {},
     "output_type": "execute_result"
    },
    {
     "data": {
      "image/png": "[encoded data removed]",
      "text/plain": [
       "<Figure size 432x288 with 1 Axes>"
      ]
     },
     "metadata": {
      "needs_background": "light"
     },
     "output_type": "display_data"
    }
   ],
   "source": [
    "\n",
    "plt.plot(lasso.coef_[1])\n",
    "plt.plot(lasso.coef_[0])\n",
    "\n",
    "plt.title(\"MY coded Ridge In Numpy\")\n",
    "plt.xlabel('Some variable')\n",
    "plt.ylabel('Some other variable')\n",
    "\n",
    "plt.xlim([-10,60])\n",
    "plt.ylim([-10,5])"
   ]
  }
 ],
 "metadata": {
  "kernelspec": {
   "display_name": "Python 3 (ipykernel)",
   "language": "python",
   "name": "python3"
  },
  "language_info": {
   "codemirror_mode": {
    "name": "ipython",
    "version": 3
   },
   "file_extension": ".py",
   "mimetype": "text/x-python",
   "name": "python",
   "nbconvert_exporter": "python",
   "pygments_lexer": "ipython3",
   "version": "3.9.7"
  }
 },
 "nbformat": 4,
 "nbformat_minor": 5
}
