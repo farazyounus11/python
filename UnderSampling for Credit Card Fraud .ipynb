{
 "cells": [
  {
   "cell_type": "code",
   "execution_count": 93,
   "id": "96c780c7-fe71-43e4-91cd-814488fb06a2",
   "metadata": {},
   "outputs": [],
   "source": [
    "import pandas as pd\n",
    "from sklearn.ensemble import IsolationForest\n",
    "from sklearn.neighbors import LocalOutlierFactor\n",
    "from sklearn.covariance import EllipticEnvelope\n",
    "from sklearn.svm import OneClassSVM\n",
    "# Load the dataset\n",
    "\n",
    "data = pd.read_csv(\"credit.csv\")"
   ]
  },
  {
   "cell_type": "code",
   "execution_count": 94,
   "id": "fddc4cdf-b108-45de-b818-85332a035d94",
   "metadata": {},
   "outputs": [
    {
     "data": {
      "text/html": [
       "<div>\n",
       "<style scoped>\n",
       "    .dataframe tbody tr th:only-of-type {\n",
       "        vertical-align: middle;\n",
       "    }\n",
       "\n",
       "    .dataframe tbody tr th {\n",
       "        vertical-align: top;\n",
       "    }\n",
       "\n",
       "    .dataframe thead th {\n",
       "        text-align: right;\n",
       "    }\n",
       "</style>\n",
       "<table border=\"1\" class=\"dataframe\">\n",
       "  <thead>\n",
       "    <tr style=\"text-align: right;\">\n",
       "      <th></th>\n",
       "      <th>Time</th>\n",
       "      <th>V1</th>\n",
       "      <th>V2</th>\n",
       "      <th>V3</th>\n",
       "      <th>V4</th>\n",
       "      <th>V5</th>\n",
       "      <th>V6</th>\n",
       "      <th>V7</th>\n",
       "      <th>V8</th>\n",
       "      <th>V9</th>\n",
       "      <th>...</th>\n",
       "      <th>V21</th>\n",
       "      <th>V22</th>\n",
       "      <th>V23</th>\n",
       "      <th>V24</th>\n",
       "      <th>V25</th>\n",
       "      <th>V26</th>\n",
       "      <th>V27</th>\n",
       "      <th>V28</th>\n",
       "      <th>Amount</th>\n",
       "      <th>Class</th>\n",
       "    </tr>\n",
       "  </thead>\n",
       "  <tbody>\n",
       "    <tr>\n",
       "      <th>0</th>\n",
       "      <td>0.0</td>\n",
       "      <td>-1.359807</td>\n",
       "      <td>-0.072781</td>\n",
       "      <td>2.536347</td>\n",
       "      <td>1.378155</td>\n",
       "      <td>-0.338321</td>\n",
       "      <td>0.462388</td>\n",
       "      <td>0.239599</td>\n",
       "      <td>0.098698</td>\n",
       "      <td>0.363787</td>\n",
       "      <td>...</td>\n",
       "      <td>-0.018307</td>\n",
       "      <td>0.277838</td>\n",
       "      <td>-0.110474</td>\n",
       "      <td>0.066928</td>\n",
       "      <td>0.128539</td>\n",
       "      <td>-0.189115</td>\n",
       "      <td>0.133558</td>\n",
       "      <td>-0.021053</td>\n",
       "      <td>149.62</td>\n",
       "      <td>0</td>\n",
       "    </tr>\n",
       "    <tr>\n",
       "      <th>1</th>\n",
       "      <td>0.0</td>\n",
       "      <td>1.191857</td>\n",
       "      <td>0.266151</td>\n",
       "      <td>0.166480</td>\n",
       "      <td>0.448154</td>\n",
       "      <td>0.060018</td>\n",
       "      <td>-0.082361</td>\n",
       "      <td>-0.078803</td>\n",
       "      <td>0.085102</td>\n",
       "      <td>-0.255425</td>\n",
       "      <td>...</td>\n",
       "      <td>-0.225775</td>\n",
       "      <td>-0.638672</td>\n",
       "      <td>0.101288</td>\n",
       "      <td>-0.339846</td>\n",
       "      <td>0.167170</td>\n",
       "      <td>0.125895</td>\n",
       "      <td>-0.008983</td>\n",
       "      <td>0.014724</td>\n",
       "      <td>2.69</td>\n",
       "      <td>0</td>\n",
       "    </tr>\n",
       "    <tr>\n",
       "      <th>2</th>\n",
       "      <td>1.0</td>\n",
       "      <td>-1.358354</td>\n",
       "      <td>-1.340163</td>\n",
       "      <td>1.773209</td>\n",
       "      <td>0.379780</td>\n",
       "      <td>-0.503198</td>\n",
       "      <td>1.800499</td>\n",
       "      <td>0.791461</td>\n",
       "      <td>0.247676</td>\n",
       "      <td>-1.514654</td>\n",
       "      <td>...</td>\n",
       "      <td>0.247998</td>\n",
       "      <td>0.771679</td>\n",
       "      <td>0.909412</td>\n",
       "      <td>-0.689281</td>\n",
       "      <td>-0.327642</td>\n",
       "      <td>-0.139097</td>\n",
       "      <td>-0.055353</td>\n",
       "      <td>-0.059752</td>\n",
       "      <td>378.66</td>\n",
       "      <td>0</td>\n",
       "    </tr>\n",
       "    <tr>\n",
       "      <th>3</th>\n",
       "      <td>1.0</td>\n",
       "      <td>-0.966272</td>\n",
       "      <td>-0.185226</td>\n",
       "      <td>1.792993</td>\n",
       "      <td>-0.863291</td>\n",
       "      <td>-0.010309</td>\n",
       "      <td>1.247203</td>\n",
       "      <td>0.237609</td>\n",
       "      <td>0.377436</td>\n",
       "      <td>-1.387024</td>\n",
       "      <td>...</td>\n",
       "      <td>-0.108300</td>\n",
       "      <td>0.005274</td>\n",
       "      <td>-0.190321</td>\n",
       "      <td>-1.175575</td>\n",
       "      <td>0.647376</td>\n",
       "      <td>-0.221929</td>\n",
       "      <td>0.062723</td>\n",
       "      <td>0.061458</td>\n",
       "      <td>123.50</td>\n",
       "      <td>0</td>\n",
       "    </tr>\n",
       "    <tr>\n",
       "      <th>4</th>\n",
       "      <td>2.0</td>\n",
       "      <td>-1.158233</td>\n",
       "      <td>0.877737</td>\n",
       "      <td>1.548718</td>\n",
       "      <td>0.403034</td>\n",
       "      <td>-0.407193</td>\n",
       "      <td>0.095921</td>\n",
       "      <td>0.592941</td>\n",
       "      <td>-0.270533</td>\n",
       "      <td>0.817739</td>\n",
       "      <td>...</td>\n",
       "      <td>-0.009431</td>\n",
       "      <td>0.798278</td>\n",
       "      <td>-0.137458</td>\n",
       "      <td>0.141267</td>\n",
       "      <td>-0.206010</td>\n",
       "      <td>0.502292</td>\n",
       "      <td>0.219422</td>\n",
       "      <td>0.215153</td>\n",
       "      <td>69.99</td>\n",
       "      <td>0</td>\n",
       "    </tr>\n",
       "  </tbody>\n",
       "</table>\n",
       "<p>5 rows × 31 columns</p>\n",
       "</div>"
      ],
      "text/plain": [
       "   Time        V1        V2        V3        V4        V5        V6        V7  \\\n",
       "0   0.0 -1.359807 -0.072781  2.536347  1.378155 -0.338321  0.462388  0.239599   \n",
       "1   0.0  1.191857  0.266151  0.166480  0.448154  0.060018 -0.082361 -0.078803   \n",
       "2   1.0 -1.358354 -1.340163  1.773209  0.379780 -0.503198  1.800499  0.791461   \n",
       "3   1.0 -0.966272 -0.185226  1.792993 -0.863291 -0.010309  1.247203  0.237609   \n",
       "4   2.0 -1.158233  0.877737  1.548718  0.403034 -0.407193  0.095921  0.592941   \n",
       "\n",
       "         V8        V9  ...       V21       V22       V23       V24       V25  \\\n",
       "0  0.098698  0.363787  ... -0.018307  0.277838 -0.110474  0.066928  0.128539   \n",
       "1  0.085102 -0.255425  ... -0.225775 -0.638672  0.101288 -0.339846  0.167170   \n",
       "2  0.247676 -1.514654  ...  0.247998  0.771679  0.909412 -0.689281 -0.327642   \n",
       "3  0.377436 -1.387024  ... -0.108300  0.005274 -0.190321 -1.175575  0.647376   \n",
       "4 -0.270533  0.817739  ... -0.009431  0.798278 -0.137458  0.141267 -0.206010   \n",
       "\n",
       "        V26       V27       V28  Amount  Class  \n",
       "0 -0.189115  0.133558 -0.021053  149.62      0  \n",
       "1  0.125895 -0.008983  0.014724    2.69      0  \n",
       "2 -0.139097 -0.055353 -0.059752  378.66      0  \n",
       "3 -0.221929  0.062723  0.061458  123.50      0  \n",
       "4  0.502292  0.219422  0.215153   69.99      0  \n",
       "\n",
       "[5 rows x 31 columns]"
      ]
     },
     "execution_count": 94,
     "metadata": {},
     "output_type": "execute_result"
    }
   ],
   "source": [
    "data.head(5)"
   ]
  },
  {
   "cell_type": "code",
   "execution_count": 95,
   "id": "0b7b8758-2308-43db-a04e-41820b81dfb6",
   "metadata": {},
   "outputs": [],
   "source": [
    "import pandas as pd\n",
    "from pandas.plotting import andrews_curves\n",
    "import matplotlib.pyplot as plt\n",
    "from imblearn.under_sampling import RandomUnderSampler\n",
    "\n",
    "# Assuming 'data' is your DataFrame containing the features and target\n",
    "X = data.drop(columns=['Class'])\n",
    "y = data['Class']"
   ]
  },
  {
   "cell_type": "code",
   "execution_count": 96,
   "id": "fa29c55f-9458-40ea-b669-aba0c1d0f6e1",
   "metadata": {},
   "outputs": [
    {
     "name": "stdout",
     "output_type": "stream",
     "text": [
      "Confusion Matrix:\n",
      "[[56832    20]\n",
      " [   42    68]]\n",
      "False Positives: 20\n",
      "False Negatives: 42\n"
     ]
    }
   ],
   "source": [
    "from sklearn.model_selection import train_test_split\n",
    "from sklearn.linear_model import LogisticRegression\n",
    "from sklearn.metrics import accuracy_score, classification_report\n",
    "from sklearn.metrics import confusion_matrix\n",
    "\n",
    "X_train, X_test, y_train, y_test = train_test_split(X, y, test_size=0.2)\n",
    "\n",
    "logreg = LogisticRegression(random_state=42, max_iter=4000)\n",
    "logreg.fit(X_train, y_train)\n",
    "\n",
    "y_pred = logreg.predict(X_test)\n",
    "\n",
    "accuracy = accuracy_score(y_test, y_pred)\n",
    "report = classification_report(y_test, y_pred)\n",
    "\n",
    "cm = confusion_matrix(y_test, y_pred)\n",
    "tn, fp, fn, tp = cm.ravel()\n",
    "\n",
    "print(\"Confusion Matrix:\")\n",
    "print(cm)\n",
    "print(f\"False Positives: {fp}\")\n",
    "print(f\"False Negatives: {fn}\")\n"
   ]
  },
  {
   "cell_type": "markdown",
   "id": "4a541926-4dad-4cef-8a3b-84b5fe4a7e09",
   "metadata": {},
   "source": [
    "## You can see above that there are 45 false negatives. 45 people got away. I will reduced this significantly by using statistical techniques "
   ]
  },
  {
   "cell_type": "markdown",
   "id": "2587b10e-d080-496e-8180-4f1b3503147d",
   "metadata": {},
   "source": [
    "## First I will use under sampling becaus the dataset is really unbalanced. You can see the unbalance below"
   ]
  },
  {
   "cell_type": "code",
   "execution_count": 97,
   "id": "2a2f6205-ab06-4d88-bcc3-5cadbceb2f7c",
   "metadata": {},
   "outputs": [
    {
     "data": {
      "image/png": "[encoded data removed]",
      "text/plain": [
       "<Figure size 600x400 with 1 Axes>"
      ]
     },
     "metadata": {},
     "output_type": "display_data"
    }
   ],
   "source": [
    "import matplotlib.pyplot as plt\n",
    "\n",
    "label_counts = y.value_counts()\n",
    "\n",
    "plt.figure(figsize=(6, 4))\n",
    "label_counts.plot(kind='bar', color='skyblue')\n",
    "plt.title('Distribution of Labels')\n",
    "plt.xlabel('Label')\n",
    "plt.ylabel('Count')\n",
    "plt.xticks(rotation=0)\n",
    "plt.show()\n"
   ]
  },
  {
   "cell_type": "code",
   "execution_count": 98,
   "id": "b0139f55-d969-4dd4-820d-3f458decf096",
   "metadata": {},
   "outputs": [],
   "source": [
    "## Below I am using randoundersampler to fix the label balance "
   ]
  },
  {
   "cell_type": "code",
   "execution_count": 99,
   "id": "be37ddb6-48ed-4e27-b31c-1d72b459828d",
   "metadata": {},
   "outputs": [],
   "source": [
    "import pandas as pd\n",
    "from sklearn.model_selection import train_test_split\n",
    "from sklearn.preprocessing import StandardScaler\n",
    "from imblearn.under_sampling import RandomUnderSampler\n",
    "from sklearn.linear_model import LogisticRegression\n",
    "from sklearn.ensemble import RandomForestClassifier, GradientBoostingClassifier\n",
    "from sklearn.metrics import classification_report, accuracy_score\n",
    "\n",
    "# First, split your dataset into training and test sets\n",
    "X_train, X_test, y_train, y_test = train_test_split(X, y, test_size=0.2, random_state=42 )\n",
    "\n",
    "# Initialize RandomUnderSampler\n",
    "rus = RandomUnderSampler(random_state=42)\n",
    "X_train_res, y_train_res = rus.fit_resample(X_train, y_train)\n",
    "\n",
    "scaler = StandardScaler()\n",
    "X_train_scaled = scaler.fit_transform(X_train_res)\n",
    "X_test_scaled = scaler.transform(X_test)  \n"
   ]
  },
  {
   "cell_type": "markdown",
   "id": "18b35b66-a93c-4735-9b1a-524fad620bf5",
   "metadata": {},
   "source": [
    "## Below you see that I did 50:50 sampling"
   ]
  },
  {
   "cell_type": "code",
   "execution_count": 100,
   "id": "cd6248c4-b197-4a78-97ba-c472825f2a56",
   "metadata": {},
   "outputs": [
    {
     "name": "stdout",
     "output_type": "stream",
     "text": [
      "Percentage of labels in the resampled training set:\n",
      "Class\n",
      "0    50.0\n",
      "1    50.0\n",
      "Name: proportion, dtype: float64\n"
     ]
    }
   ],
   "source": [
    "resampled_label_counts = y_train_res.value_counts(normalize=True) * 100\n",
    "\n",
    "print(\"Percentage of labels in the resampled training set:\")\n",
    "print(resampled_label_counts)\n"
   ]
  },
  {
   "cell_type": "code",
   "execution_count": 101,
   "id": "1a49d50f-06c6-44a2-8cc6-72c55a8fbd28",
   "metadata": {},
   "outputs": [
    {
     "name": "stdout",
     "output_type": "stream",
     "text": [
      "(788, 30)\n"
     ]
    },
    {
     "data": {
      "text/plain": [
       "(788,)"
      ]
     },
     "execution_count": 101,
     "metadata": {},
     "output_type": "execute_result"
    }
   ],
   "source": [
    "print(X_train_scaled.shape)\n",
    "y_train_res.shape"
   ]
  },
  {
   "cell_type": "markdown",
   "id": "49565e24-9860-4a5b-beaa-dc7b99f93dd8",
   "metadata": {},
   "source": [
    "## After undersampling. I will apply regularization. I will do gridsearch to find best regularizaiton parameter  "
   ]
  },
  {
   "cell_type": "code",
   "execution_count": 102,
   "id": "20819d40-6a5f-4f48-a44f-1a14ca99d51b",
   "metadata": {},
   "outputs": [
    {
     "name": "stdout",
     "output_type": "stream",
     "text": [
      "Penalty: l1, C: 0.01\n",
      "False Positives: 136\n",
      "False Negatives: 19\n",
      "---------------------------------------------------\n",
      "Penalty: l1, C: 0.1\n",
      "False Positives: 819\n",
      "False Negatives: 12\n",
      "---------------------------------------------------\n",
      "Penalty: l1, C: 0.5\n",
      "False Positives: 1525\n",
      "False Negatives: 8\n",
      "---------------------------------------------------\n",
      "Penalty: l1, C: 1\n",
      "False Positives: 1711\n",
      "False Negatives: 8\n",
      "---------------------------------------------------\n",
      "Penalty: l1, C: 2\n",
      "False Positives: 1943\n",
      "False Negatives: 8\n",
      "---------------------------------------------------\n",
      "Penalty: l2, C: 0.01\n",
      "False Positives: 284\n",
      "False Negatives: 17\n",
      "---------------------------------------------------\n",
      "Penalty: l2, C: 0.1\n",
      "False Positives: 989\n",
      "False Negatives: 10\n",
      "---------------------------------------------------\n",
      "Penalty: l2, C: 0.5\n",
      "False Positives: 1416\n",
      "False Negatives: 8\n",
      "---------------------------------------------------\n",
      "Penalty: l2, C: 1\n",
      "False Positives: 1632\n",
      "False Negatives: 8\n",
      "---------------------------------------------------\n",
      "Penalty: l2, C: 2\n",
      "False Positives: 1835\n",
      "False Negatives: 8\n",
      "---------------------------------------------------\n",
      "Best configuration with minimum false negatives: Penalty=l1, C=0.5\n",
      "Confusion Matrix of the best configuration:\n",
      "1525\n"
     ]
    }
   ],
   "source": [
    "from sklearn.linear_model import LogisticRegression\n",
    "from sklearn.metrics import confusion_matrix\n",
    "import numpy as np\n",
    "\n",
    "regularization_strengths = [0.01, 0.1,.5, 1,2]\n",
    "penalties = ['l1', 'l2']\n",
    "\n",
    "results = []\n",
    "\n",
    "for penalty in penalties:\n",
    "    for C in regularization_strengths:\n",
    "        solver = 'liblinear' if penalty == 'l1' else 'lbfgs'\n",
    "        logreg = LogisticRegression(C=C, penalty=penalty, solver=solver, random_state=42, max_iter=10000)\n",
    "        logreg.fit(X_train_scaled, y_train_res)\n",
    "        y_pred = logreg.predict(X_test_scaled)\n",
    "        cm = confusion_matrix(y_test, y_pred)\n",
    "        tn, fp, fn, tp = cm.ravel()\n",
    "        \n",
    "        # Store only false positives and false negatives\n",
    "        results.append((penalty, C, fp, fn))\n",
    "        \n",
    "        print(f\"Penalty: {penalty}, C: {C}\")\n",
    "        print(f\"False Positives: {fp}\")\n",
    "        print(f\"False Negatives: {fn}\")\n",
    "        print(\"---------------------------------------------------\")\n",
    "\n",
    "\n",
    "min_fn_result = min(results, key=lambda x: x[3])\n",
    "print(f\"Best configuration with minimum false negatives: Penalty={min_fn_result[0]}, C={min_fn_result[1]}\")\n",
    "print(\"Confusion Matrix of the best configuration:\")\n",
    "print(min_fn_result[2])\n"
   ]
  },
  {
   "cell_type": "markdown",
   "id": "92f9e2fb-2a10-4bc8-ab1b-35ee7dbd38eb",
   "metadata": {},
   "source": [
    "## Below, I will show how catboost reduced false negatives even further. from the original 45 FN to 6 FN"
   ]
  },
  {
   "cell_type": "code",
   "execution_count": 103,
   "id": "1b18ce0d-67c5-457c-9ff7-b5e9b35a0cc4",
   "metadata": {},
   "outputs": [
    {
     "name": "stdout",
     "output_type": "stream",
     "text": [
      "False Positives: 1275\n",
      "False Negatives: 6\n"
     ]
    }
   ],
   "source": [
    "from catboost import CatBoostClassifier\n",
    "from sklearn.preprocessing import StandardScaler\n",
    "from imblearn.under_sampling import RandomUnderSampler\n",
    "from sklearn.metrics import confusion_matrix\n",
    "\n",
    "rus = RandomUnderSampler(random_state=42)\n",
    "X_train_res, y_train_res = rus.fit_resample(X_train, y_train)\n",
    "\n",
    "scaler = StandardScaler()\n",
    "X_train_scaled = scaler.fit_transform(X_train_res)\n",
    "X_test_scaled = scaler.transform(X_test)\n",
    "\n",
    "catboost = CatBoostClassifier(random_state=42, iterations=1000, verbose=0)\n",
    "catboost.fit(X_train_scaled, y_train_res)\n",
    "\n",
    "y_pred = catboost.predict(X_test_scaled)\n",
    "\n",
    "cm = confusion_matrix(y_test, y_pred)\n",
    "tn, fp, fn, tp = cm.ravel()\n",
    "\n",
    "print(f\"False Positives: {fp}\")\n",
    "print(f\"False Negatives: {fn}\")\n"
   ]
  },
  {
   "cell_type": "markdown",
   "id": "441f04a6-6399-4072-af0a-d37ebbca244e",
   "metadata": {},
   "source": [
    "## Xgboost does better but it sacrifices false positives too much "
   ]
  },
  {
   "cell_type": "code",
   "execution_count": 104,
   "id": "8d64a603-1365-455f-aa2d-dec76b53756b",
   "metadata": {},
   "outputs": [
    {
     "name": "stdout",
     "output_type": "stream",
     "text": [
      "False Positives: 2289\n",
      "False Negatives: 5\n"
     ]
    }
   ],
   "source": [
    "import xgboost as xgb\n",
    "from sklearn.preprocessing import StandardScaler\n",
    "from imblearn.under_sampling import RandomUnderSampler\n",
    "from sklearn.metrics import confusion_matrix\n",
    "\n",
    "rus = RandomUnderSampler(random_state=42)\n",
    "X_train_res, y_train_res = rus.fit_resample(X_train, y_train)\n",
    "\n",
    "scaler = StandardScaler()\n",
    "X_train_scaled = scaler.fit_transform(X_train_res)\n",
    "X_test_scaled = scaler.transform(X_test)\n",
    "\n",
    "# Initialize and train XGBoost classifier with regularization\n",
    "xgb_classifier = xgb.XGBClassifier(random_state=42, n_estimators=200, verbosity=0,\n",
    "                                   reg_lambda=.5)  # Adjust regularization strength as needed\n",
    "\n",
    "xgb_classifier.fit(X_train_scaled, y_train_res)\n",
    "\n",
    "y_pred = xgb_classifier.predict(X_test_scaled)\n",
    "\n",
    "cm = confusion_matrix(y_test, y_pred)\n",
    "tn, fp, fn, tp = cm.ravel()\n",
    "\n",
    "print(f\"False Positives: {fp}\")\n",
    "print(f\"False Negatives: {fn}\")\n"
   ]
  },
  {
   "cell_type": "markdown",
   "id": "38227502-0c12-4fe9-b11a-faa7833e77c7",
   "metadata": {},
   "source": [
    "## Randomforest does just as well as catboost. Better than Xgboost"
   ]
  },
  {
   "cell_type": "code",
   "execution_count": 105,
   "id": "c233cc69-6f73-472d-8caa-d39dfa7742a4",
   "metadata": {},
   "outputs": [
    {
     "name": "stdout",
     "output_type": "stream",
     "text": [
      "False Positives: 1394\n",
      "False Negatives: 6\n"
     ]
    }
   ],
   "source": [
    "from sklearn.ensemble import RandomForestClassifier\n",
    "from sklearn.model_selection import GridSearchCV\n",
    "from sklearn.preprocessing import StandardScaler\n",
    "from sklearn.metrics import accuracy_score, confusion_matrix\n",
    "from imblearn.under_sampling import RandomUnderSampler\n",
    "\n",
    "rus = RandomUnderSampler(random_state=42)\n",
    "X_train_res, y_train_res = rus.fit_resample(X_train, y_train)\n",
    "\n",
    "scaler = StandardScaler()\n",
    "X_train_scaled = scaler.fit_transform(X_train_res)\n",
    "X_test_scaled = scaler.transform(X_test)\n",
    "\n",
    "rf_classifier = RandomForestClassifier(random_state=42)\n",
    "\n",
    "param_grid = {'n_estimators': [50, 100, 200, 300, 400, 500]}\n",
    "\n",
    "grid_search = GridSearchCV(rf_classifier, param_grid, cv=5, scoring='accuracy', n_jobs=-1)\n",
    "grid_search.fit(X_train_scaled, y_train_res)\n",
    "\n",
    "best_rf = grid_search.best_estimator_\n",
    "\n",
    "y_pred = best_rf.predict(X_test_scaled)\n",
    "\n",
    "## Confusion code\n",
    "\n",
    "cm = confusion_matrix(y_test, y_pred)\n",
    "tn, fp, fn, tp = cm.ravel()\n",
    "print(f\"False Positives: {fp}\")\n",
    "print(f\"False Negatives: {fn}\")\n"
   ]
  },
  {
   "cell_type": "markdown",
   "id": "d0a74d0b-56fe-4802-a77f-b317e275cfbf",
   "metadata": {},
   "source": [
    "## Below I try SVM and knn with different parameters "
   ]
  },
  {
   "cell_type": "code",
   "execution_count": 109,
   "id": "c085cd2b-4e7d-4d6b-b11a-584310f03fa7",
   "metadata": {},
   "outputs": [
    {
     "name": "stdout",
     "output_type": "stream",
     "text": [
      "KNN Classifier:\n",
      "False Positives: 1367\n",
      "False Negatives: 15\n",
      "SVM Classifier:\n",
      "False Positives: 1907\n",
      "False Negatives: 7\n"
     ]
    }
   ],
   "source": [
    "from sklearn.model_selection import GridSearchCV\n",
    "from sklearn.neighbors import KNeighborsClassifier\n",
    "from sklearn.svm import SVC\n",
    "from sklearn.preprocessing import StandardScaler\n",
    "from imblearn.under_sampling import RandomUnderSampler\n",
    "\n",
    "# Apply Random Under Sampling\n",
    "rus = RandomUnderSampler(random_state=42)\n",
    "X_train_res, y_train_res = rus.fit_resample(X_train, y_train)\n",
    "\n",
    "# Scale the data\n",
    "scaler = StandardScaler()\n",
    "X_train_scaled = scaler.fit_transform(X_train_res)\n",
    "X_test_scaled = scaler.transform(X_test)\n",
    "\n",
    "# Initialize KNN classifier\n",
    "knn_classifier = KNeighborsClassifier()\n",
    "\n",
    "# Define the parameter grid for KNN\n",
    "param_grid_knn = {\n",
    "    'n_neighbors': [2, 3, 5, 7],\n",
    "    'weights': ['uniform', 'distance']\n",
    "}\n",
    "\n",
    "# Initialize SVM classifier\n",
    "svm_classifier = SVC()\n",
    "\n",
    "# Define the parameter grid for SVM\n",
    "param_grid_svm = {\n",
    "    'C': [0.1,.5, 1, 2, 4],\n",
    "    'kernel': ['linear', 'rbf']\n",
    "}\n",
    "\n",
    "# Initialize GridSearchCV for KNN\n",
    "grid_search_knn = GridSearchCV(knn_classifier, param_grid_knn, cv=5, scoring='accuracy', n_jobs=-1)\n",
    "\n",
    "# Initialize GridSearchCV for SVM\n",
    "grid_search_svm = GridSearchCV(svm_classifier, param_grid_svm, cv=5, scoring='accuracy', n_jobs=-1)\n",
    "\n",
    "# Fit GridSearchCV for KNN\n",
    "grid_search_knn.fit(X_train_scaled, y_train_res)\n",
    "\n",
    "# Fit GridSearchCV for SVM\n",
    "grid_search_svm.fit(X_train_scaled, y_train_res)\n",
    "\n",
    "# Get best parameters and best estimators for both classifiers\n",
    "best_params_knn = grid_search_knn.best_params_\n",
    "best_knn = grid_search_knn.best_estimator_\n",
    "\n",
    "best_params_svm = grid_search_svm.best_params_\n",
    "best_svm = grid_search_svm.best_estimator_\n",
    "\n",
    "# Predict on the test set using the best estimators\n",
    "y_pred_knn = best_knn.predict(X_test_scaled)\n",
    "y_pred_svm = best_svm.predict(X_test_scaled)\n",
    "\n",
    "# Evaluate the performance of KNN\n",
    "accuracy_knn = accuracy_score(y_test, y_pred_knn)\n",
    "cm_knn = confusion_matrix(y_test, y_pred_knn)\n",
    "tn_knn, fp_knn, fn_knn, tp_knn = cm_knn.ravel()\n",
    "\n",
    "print(\"KNN Classifier:\")\n",
    "print(f\"False Positives: {fp_knn}\")\n",
    "print(f\"False Negatives: {fn_knn}\")\n",
    "\n",
    "# Evaluate the performance of SVM\n",
    "accuracy_svm = accuracy_score(y_test, y_pred_svm)\n",
    "cm_svm = confusion_matrix(y_test, y_pred_svm)\n",
    "tn_svm, fp_svm, fn_svm, tp_svm = cm_svm.ravel()\n",
    "\n",
    "print(\"SVM Classifier:\")\n",
    "print(f\"False Positives: {fp_svm}\")\n",
    "print(f\"False Negatives: {fn_svm}\")\n"
   ]
  },
  {
   "cell_type": "code",
   "execution_count": null,
   "id": "c5e0dcdd-5d5b-4825-83b5-32c13f372dff",
   "metadata": {},
   "outputs": [],
   "source": []
  },
  {
   "cell_type": "code",
   "execution_count": null,
   "id": "046ae7d9-5858-4dd2-bede-ed8518a7ae12",
   "metadata": {},
   "outputs": [],
   "source": []
  }
 ],
 "metadata": {
  "kernelspec": {
   "display_name": "Python 3 (ipykernel)",
   "language": "python",
   "name": "python3"
  },
  "language_info": {
   "codemirror_mode": {
    "name": "ipython",
    "version": 3
   },
   "file_extension": ".py",
   "mimetype": "text/x-python",
   "name": "python",
   "nbconvert_exporter": "python",
   "pygments_lexer": "ipython3",
   "version": "3.10.13"
  }
 },
 "nbformat": 4,
 "nbformat_minor": 5
}
